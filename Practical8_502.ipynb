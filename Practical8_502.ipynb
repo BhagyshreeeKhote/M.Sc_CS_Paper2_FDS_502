{
  "nbformat": 4,
  "nbformat_minor": 0,
  "metadata": {
    "colab": {
      "provenance": []
    },
    "kernelspec": {
      "name": "python3",
      "display_name": "Python 3"
    },
    "language_info": {
      "name": "python"
    }
  },
  "cells": [
    {
      "cell_type": "code",
      "execution_count": 1,
      "metadata": {
        "id": "vBWq7CAV0nVm"
      },
      "outputs": [],
      "source": [
        "import pandas as pd\n",
        "import numpy as np\n",
        "import matplotlib.pyplot as plt\n",
        "import seaborn as sns\n",
        "import scipy.stats as stats\n",
        "from scipy.stats import ttest_1samp\n",
        "from statsmodels.stats.power import tt_ind_solve_power"
      ]
    },
    {
      "cell_type": "code",
      "source": [
        "ages=[10,20,35,50,28,40,55,18,16,55,30,25,43,18,30,28,14,24,16,17,32,35,26,27,65,18,43,23,21,20,19,70]"
      ],
      "metadata": {
        "id": "eUA8jXCm0o26"
      },
      "execution_count": 2,
      "outputs": []
    },
    {
      "cell_type": "code",
      "source": [
        "ages_mean=np.mean(ages)\n",
        "print(ages_mean)"
      ],
      "metadata": {
        "colab": {
          "base_uri": "https://localhost:8080/"
        },
        "id": "9fFUOm6L0q3o",
        "outputId": "665b7832-006a-43e1-e881-41567697c38d"
      },
      "execution_count": 3,
      "outputs": [
        {
          "output_type": "stream",
          "name": "stdout",
          "text": [
            "30.34375\n"
          ]
        }
      ]
    },
    {
      "cell_type": "code",
      "source": [
        "#Lets take sample\n",
        "sample_size=10\n",
        "age_sample=np.random.choice(ages,sample_size)\n",
        "age_sample"
      ],
      "metadata": {
        "colab": {
          "base_uri": "https://localhost:8080/"
        },
        "id": "idm4feeX0tze",
        "outputId": "c63b90b4-d5c9-49a1-efa8-602834db48f7"
      },
      "execution_count": 5,
      "outputs": [
        {
          "output_type": "execute_result",
          "data": {
            "text/plain": [
              "array([32, 65, 20, 18, 21, 28, 50, 17, 23, 25])"
            ]
          },
          "metadata": {},
          "execution_count": 5
        }
      ]
    },
    {
      "cell_type": "code",
      "source": [
        "from scipy.stats import ttest_1samp"
      ],
      "metadata": {
        "id": "EeMvL4Y_0uVc"
      },
      "execution_count": 6,
      "outputs": []
    },
    {
      "cell_type": "code",
      "source": [
        "ttest,p_value=ttest_1samp(age_sample,30)"
      ],
      "metadata": {
        "id": "S7VZYqE70wt8"
      },
      "execution_count": 7,
      "outputs": []
    },
    {
      "cell_type": "code",
      "source": [
        "print(p_value)"
      ],
      "metadata": {
        "colab": {
          "base_uri": "https://localhost:8080/"
        },
        "id": "wf05z1cN0yrM",
        "outputId": "3e673d49-5862-4d0e-d6cf-d9f33dd581f0"
      },
      "execution_count": 8,
      "outputs": [
        {
          "output_type": "stream",
          "name": "stdout",
          "text": [
            "0.9843076131135616\n"
          ]
        }
      ]
    },
    {
      "cell_type": "code",
      "source": [
        "if p_value < 0.05:\n",
        "    print(\"We are rejecting null hypothesis\")\n",
        "else:\n",
        "    print(\"We are accepting null hypothesis\")"
      ],
      "metadata": {
        "colab": {
          "base_uri": "https://localhost:8080/"
        },
        "id": "UvGwbBB902jv",
        "outputId": "cd0ae630-d223-4371-cc80-e70ed4ad9359"
      },
      "execution_count": 9,
      "outputs": [
        {
          "output_type": "stream",
          "name": "stdout",
          "text": [
            "We are accepting null hypothesis\n"
          ]
        }
      ]
    }
  ]
}